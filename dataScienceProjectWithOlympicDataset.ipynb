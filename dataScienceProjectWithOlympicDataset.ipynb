{
  "nbformat": 4,
  "nbformat_minor": 0,
  "metadata": {
    "colab": {
      "name": "dataScienceProjectWithOlympicDataset.ipynb",
      "provenance": [],
      "collapsed_sections": [],
      "mount_file_id": "1YP94HqbJtfcPigmIvv13BWcoqVibaeH3",
      "authorship_tag": "ABX9TyMPE0rBrU8g06JrX0yy6tJA",
      "include_colab_link": true
    },
    "kernelspec": {
      "name": "python3",
      "display_name": "Python 3"
    },
    "language_info": {
      "name": "python"
    }
  },
  "cells": [
    {
      "cell_type": "markdown",
      "metadata": {
        "id": "view-in-github",
        "colab_type": "text"
      },
      "source": [
        "<a href=\"https://colab.research.google.com/github/mirjunaid/codex/blob/main/dataScienceProjectWithOlympicDataset.ipynb\" target=\"_parent\"><img src=\"https://colab.research.google.com/assets/colab-badge.svg\" alt=\"Open In Colab\"/></a>"
      ]
    },
    {
      "cell_type": "code",
      "execution_count": 36,
      "metadata": {
        "id": "y_tpVWV591pv"
      },
      "outputs": [],
      "source": [
        "import pandas as pd\n",
        "import numpy as np\n",
        "import matplotlib.pyplot as plt\n",
        "from IPython.core.pylabtools import figsize\n",
        "%matplotlib inline"
      ]
    },
    {
      "cell_type": "code",
      "source": [
        "# reading the given data\n",
        "\n",
        "data = pd.read_excel('/Olympic 2012 Medal Tally.xlsx')"
      ],
      "metadata": {
        "id": "PkJaM8LBTcS7"
      },
      "execution_count": 4,
      "outputs": []
    },
    {
      "cell_type": "code",
      "source": [
        "# Add a column to the datasheet to calculate the total of the medals won by a country\n",
        "data['Total Medals'] = None\n",
        "data['Maximum'] = None\n",
        "data"
      ],
      "metadata": {
        "id": "jErGP0CgTu2z",
        "colab": {
          "base_uri": "https://localhost:8080/",
          "height": 258
        },
        "outputId": "4b85e783-17eb-4b5a-d105-8727004ac00a"
      },
      "execution_count": 5,
      "outputs": [
        {
          "output_type": "execute_result",
          "data": {
            "text/plain": [
              "    Country Name Country Code  Year  Gold  Silver  Bronze Total Medals Maximum\n",
              "0  Great Britain          GBR  2012    29      17      19         None    None\n",
              "1         China           CHN  2012    38      28      22         None    None\n",
              "2         Russia          RUS  2012    24      25      32         None    None\n",
              "3  United States           US  2012    46      28      29         None    None\n",
              "4          Korea          KOR  2012    13       8       7         None    None\n",
              "5          Japan          JPN  2012     7      14      17         None    None\n",
              "6        Germany          GER  2012    11      11      14         None    None"
            ],
            "text/html": [
              "\n",
              "  <div id=\"df-5e7b812a-3947-4e38-8087-cede5b7b2ee6\">\n",
              "    <div class=\"colab-df-container\">\n",
              "      <div>\n",
              "<style scoped>\n",
              "    .dataframe tbody tr th:only-of-type {\n",
              "        vertical-align: middle;\n",
              "    }\n",
              "\n",
              "    .dataframe tbody tr th {\n",
              "        vertical-align: top;\n",
              "    }\n",
              "\n",
              "    .dataframe thead th {\n",
              "        text-align: right;\n",
              "    }\n",
              "</style>\n",
              "<table border=\"1\" class=\"dataframe\">\n",
              "  <thead>\n",
              "    <tr style=\"text-align: right;\">\n",
              "      <th></th>\n",
              "      <th>Country Name</th>\n",
              "      <th>Country Code</th>\n",
              "      <th>Year</th>\n",
              "      <th>Gold</th>\n",
              "      <th>Silver</th>\n",
              "      <th>Bronze</th>\n",
              "      <th>Total Medals</th>\n",
              "      <th>Maximum</th>\n",
              "    </tr>\n",
              "  </thead>\n",
              "  <tbody>\n",
              "    <tr>\n",
              "      <th>0</th>\n",
              "      <td>Great Britain</td>\n",
              "      <td>GBR</td>\n",
              "      <td>2012</td>\n",
              "      <td>29</td>\n",
              "      <td>17</td>\n",
              "      <td>19</td>\n",
              "      <td>None</td>\n",
              "      <td>None</td>\n",
              "    </tr>\n",
              "    <tr>\n",
              "      <th>1</th>\n",
              "      <td>China</td>\n",
              "      <td>CHN</td>\n",
              "      <td>2012</td>\n",
              "      <td>38</td>\n",
              "      <td>28</td>\n",
              "      <td>22</td>\n",
              "      <td>None</td>\n",
              "      <td>None</td>\n",
              "    </tr>\n",
              "    <tr>\n",
              "      <th>2</th>\n",
              "      <td>Russia</td>\n",
              "      <td>RUS</td>\n",
              "      <td>2012</td>\n",
              "      <td>24</td>\n",
              "      <td>25</td>\n",
              "      <td>32</td>\n",
              "      <td>None</td>\n",
              "      <td>None</td>\n",
              "    </tr>\n",
              "    <tr>\n",
              "      <th>3</th>\n",
              "      <td>United States</td>\n",
              "      <td>US</td>\n",
              "      <td>2012</td>\n",
              "      <td>46</td>\n",
              "      <td>28</td>\n",
              "      <td>29</td>\n",
              "      <td>None</td>\n",
              "      <td>None</td>\n",
              "    </tr>\n",
              "    <tr>\n",
              "      <th>4</th>\n",
              "      <td>Korea</td>\n",
              "      <td>KOR</td>\n",
              "      <td>2012</td>\n",
              "      <td>13</td>\n",
              "      <td>8</td>\n",
              "      <td>7</td>\n",
              "      <td>None</td>\n",
              "      <td>None</td>\n",
              "    </tr>\n",
              "    <tr>\n",
              "      <th>5</th>\n",
              "      <td>Japan</td>\n",
              "      <td>JPN</td>\n",
              "      <td>2012</td>\n",
              "      <td>7</td>\n",
              "      <td>14</td>\n",
              "      <td>17</td>\n",
              "      <td>None</td>\n",
              "      <td>None</td>\n",
              "    </tr>\n",
              "    <tr>\n",
              "      <th>6</th>\n",
              "      <td>Germany</td>\n",
              "      <td>GER</td>\n",
              "      <td>2012</td>\n",
              "      <td>11</td>\n",
              "      <td>11</td>\n",
              "      <td>14</td>\n",
              "      <td>None</td>\n",
              "      <td>None</td>\n",
              "    </tr>\n",
              "  </tbody>\n",
              "</table>\n",
              "</div>\n",
              "      <button class=\"colab-df-convert\" onclick=\"convertToInteractive('df-5e7b812a-3947-4e38-8087-cede5b7b2ee6')\"\n",
              "              title=\"Convert this dataframe to an interactive table.\"\n",
              "              style=\"display:none;\">\n",
              "        \n",
              "  <svg xmlns=\"http://www.w3.org/2000/svg\" height=\"24px\"viewBox=\"0 0 24 24\"\n",
              "       width=\"24px\">\n",
              "    <path d=\"M0 0h24v24H0V0z\" fill=\"none\"/>\n",
              "    <path d=\"M18.56 5.44l.94 2.06.94-2.06 2.06-.94-2.06-.94-.94-2.06-.94 2.06-2.06.94zm-11 1L8.5 8.5l.94-2.06 2.06-.94-2.06-.94L8.5 2.5l-.94 2.06-2.06.94zm10 10l.94 2.06.94-2.06 2.06-.94-2.06-.94-.94-2.06-.94 2.06-2.06.94z\"/><path d=\"M17.41 7.96l-1.37-1.37c-.4-.4-.92-.59-1.43-.59-.52 0-1.04.2-1.43.59L10.3 9.45l-7.72 7.72c-.78.78-.78 2.05 0 2.83L4 21.41c.39.39.9.59 1.41.59.51 0 1.02-.2 1.41-.59l7.78-7.78 2.81-2.81c.8-.78.8-2.07 0-2.86zM5.41 20L4 18.59l7.72-7.72 1.47 1.35L5.41 20z\"/>\n",
              "  </svg>\n",
              "      </button>\n",
              "      \n",
              "  <style>\n",
              "    .colab-df-container {\n",
              "      display:flex;\n",
              "      flex-wrap:wrap;\n",
              "      gap: 12px;\n",
              "    }\n",
              "\n",
              "    .colab-df-convert {\n",
              "      background-color: #E8F0FE;\n",
              "      border: none;\n",
              "      border-radius: 50%;\n",
              "      cursor: pointer;\n",
              "      display: none;\n",
              "      fill: #1967D2;\n",
              "      height: 32px;\n",
              "      padding: 0 0 0 0;\n",
              "      width: 32px;\n",
              "    }\n",
              "\n",
              "    .colab-df-convert:hover {\n",
              "      background-color: #E2EBFA;\n",
              "      box-shadow: 0px 1px 2px rgba(60, 64, 67, 0.3), 0px 1px 3px 1px rgba(60, 64, 67, 0.15);\n",
              "      fill: #174EA6;\n",
              "    }\n",
              "\n",
              "    [theme=dark] .colab-df-convert {\n",
              "      background-color: #3B4455;\n",
              "      fill: #D2E3FC;\n",
              "    }\n",
              "\n",
              "    [theme=dark] .colab-df-convert:hover {\n",
              "      background-color: #434B5C;\n",
              "      box-shadow: 0px 1px 3px 1px rgba(0, 0, 0, 0.15);\n",
              "      filter: drop-shadow(0px 1px 2px rgba(0, 0, 0, 0.3));\n",
              "      fill: #FFFFFF;\n",
              "    }\n",
              "  </style>\n",
              "\n",
              "      <script>\n",
              "        const buttonEl =\n",
              "          document.querySelector('#df-5e7b812a-3947-4e38-8087-cede5b7b2ee6 button.colab-df-convert');\n",
              "        buttonEl.style.display =\n",
              "          google.colab.kernel.accessAllowed ? 'block' : 'none';\n",
              "\n",
              "        async function convertToInteractive(key) {\n",
              "          const element = document.querySelector('#df-5e7b812a-3947-4e38-8087-cede5b7b2ee6');\n",
              "          const dataTable =\n",
              "            await google.colab.kernel.invokeFunction('convertToInteractive',\n",
              "                                                     [key], {});\n",
              "          if (!dataTable) return;\n",
              "\n",
              "          const docLinkHtml = 'Like what you see? Visit the ' +\n",
              "            '<a target=\"_blank\" href=https://colab.research.google.com/notebooks/data_table.ipynb>data table notebook</a>'\n",
              "            + ' to learn more about interactive tables.';\n",
              "          element.innerHTML = '';\n",
              "          dataTable['output_type'] = 'display_data';\n",
              "          await google.colab.output.renderOutput(dataTable, element);\n",
              "          const docLink = document.createElement('div');\n",
              "          docLink.innerHTML = docLinkHtml;\n",
              "          element.appendChild(docLink);\n",
              "        }\n",
              "      </script>\n",
              "    </div>\n",
              "  </div>\n",
              "  "
            ]
          },
          "metadata": {},
          "execution_count": 5
        }
      ]
    },
    {
      "cell_type": "code",
      "source": [
        "# Set the index for the Columns\n",
        "index_gold = data.columns.get_loc('Gold')\n",
        "index_silver = data.columns.get_loc('Silver')\n",
        "index_bronze = data.columns.get_loc('Bronze')\n",
        "index_total = data.columns.get_loc('Total Medals')\n",
        "index_maximum = data.columns.get_loc('Maximum')"
      ],
      "metadata": {
        "id": "PS2khyt-T9iE"
      },
      "execution_count": 6,
      "outputs": []
    },
    {
      "cell_type": "code",
      "source": [
        "# Add the data given in columns and display it in total column\n",
        "for row in range(0, len(data)):\n",
        "    data.iat[row, index_total] = data.iat[row, index_gold] + data.iat[row, index_silver] + data.iat[row, index_bronze]\n",
        "    if data.iat[row, index_gold] > data.iat[row, index_silver] and data.iat[row, index_gold] > data.iat[row, index_bronze]:\n",
        "        data.iat[row, index_maximum] = data.iat[row, index_gold]\n",
        "    elif data.iat[row, index_silver] > data.iat[row, index_gold] and data.iat[row, index_silver] > data.iat[row, index_bronze]:\n",
        "        data.iat[row, index_maximum] = data.iat[row, index_silver]\n",
        "    else:\n",
        "        data.iat[row, index_maximum] = data.iat[row, index_bronze]\n",
        "\n",
        "data\n"
      ],
      "metadata": {
        "id": "qZ4PG7M6Usbk",
        "colab": {
          "base_uri": "https://localhost:8080/",
          "height": 258
        },
        "outputId": "32a504ff-bef3-4c70-c9c7-ae4937d35ee8"
      },
      "execution_count": 7,
      "outputs": [
        {
          "output_type": "execute_result",
          "data": {
            "text/plain": [
              "    Country Name Country Code  Year  Gold  Silver  Bronze Total Medals Maximum\n",
              "0  Great Britain          GBR  2012    29      17      19           65      29\n",
              "1         China           CHN  2012    38      28      22           88      38\n",
              "2         Russia          RUS  2012    24      25      32           81      32\n",
              "3  United States           US  2012    46      28      29          103      46\n",
              "4          Korea          KOR  2012    13       8       7           28      13\n",
              "5          Japan          JPN  2012     7      14      17           38      17\n",
              "6        Germany          GER  2012    11      11      14           36      14"
            ],
            "text/html": [
              "\n",
              "  <div id=\"df-f6ebe347-be8a-44ef-ac6f-bfe363f33c7a\">\n",
              "    <div class=\"colab-df-container\">\n",
              "      <div>\n",
              "<style scoped>\n",
              "    .dataframe tbody tr th:only-of-type {\n",
              "        vertical-align: middle;\n",
              "    }\n",
              "\n",
              "    .dataframe tbody tr th {\n",
              "        vertical-align: top;\n",
              "    }\n",
              "\n",
              "    .dataframe thead th {\n",
              "        text-align: right;\n",
              "    }\n",
              "</style>\n",
              "<table border=\"1\" class=\"dataframe\">\n",
              "  <thead>\n",
              "    <tr style=\"text-align: right;\">\n",
              "      <th></th>\n",
              "      <th>Country Name</th>\n",
              "      <th>Country Code</th>\n",
              "      <th>Year</th>\n",
              "      <th>Gold</th>\n",
              "      <th>Silver</th>\n",
              "      <th>Bronze</th>\n",
              "      <th>Total Medals</th>\n",
              "      <th>Maximum</th>\n",
              "    </tr>\n",
              "  </thead>\n",
              "  <tbody>\n",
              "    <tr>\n",
              "      <th>0</th>\n",
              "      <td>Great Britain</td>\n",
              "      <td>GBR</td>\n",
              "      <td>2012</td>\n",
              "      <td>29</td>\n",
              "      <td>17</td>\n",
              "      <td>19</td>\n",
              "      <td>65</td>\n",
              "      <td>29</td>\n",
              "    </tr>\n",
              "    <tr>\n",
              "      <th>1</th>\n",
              "      <td>China</td>\n",
              "      <td>CHN</td>\n",
              "      <td>2012</td>\n",
              "      <td>38</td>\n",
              "      <td>28</td>\n",
              "      <td>22</td>\n",
              "      <td>88</td>\n",
              "      <td>38</td>\n",
              "    </tr>\n",
              "    <tr>\n",
              "      <th>2</th>\n",
              "      <td>Russia</td>\n",
              "      <td>RUS</td>\n",
              "      <td>2012</td>\n",
              "      <td>24</td>\n",
              "      <td>25</td>\n",
              "      <td>32</td>\n",
              "      <td>81</td>\n",
              "      <td>32</td>\n",
              "    </tr>\n",
              "    <tr>\n",
              "      <th>3</th>\n",
              "      <td>United States</td>\n",
              "      <td>US</td>\n",
              "      <td>2012</td>\n",
              "      <td>46</td>\n",
              "      <td>28</td>\n",
              "      <td>29</td>\n",
              "      <td>103</td>\n",
              "      <td>46</td>\n",
              "    </tr>\n",
              "    <tr>\n",
              "      <th>4</th>\n",
              "      <td>Korea</td>\n",
              "      <td>KOR</td>\n",
              "      <td>2012</td>\n",
              "      <td>13</td>\n",
              "      <td>8</td>\n",
              "      <td>7</td>\n",
              "      <td>28</td>\n",
              "      <td>13</td>\n",
              "    </tr>\n",
              "    <tr>\n",
              "      <th>5</th>\n",
              "      <td>Japan</td>\n",
              "      <td>JPN</td>\n",
              "      <td>2012</td>\n",
              "      <td>7</td>\n",
              "      <td>14</td>\n",
              "      <td>17</td>\n",
              "      <td>38</td>\n",
              "      <td>17</td>\n",
              "    </tr>\n",
              "    <tr>\n",
              "      <th>6</th>\n",
              "      <td>Germany</td>\n",
              "      <td>GER</td>\n",
              "      <td>2012</td>\n",
              "      <td>11</td>\n",
              "      <td>11</td>\n",
              "      <td>14</td>\n",
              "      <td>36</td>\n",
              "      <td>14</td>\n",
              "    </tr>\n",
              "  </tbody>\n",
              "</table>\n",
              "</div>\n",
              "      <button class=\"colab-df-convert\" onclick=\"convertToInteractive('df-f6ebe347-be8a-44ef-ac6f-bfe363f33c7a')\"\n",
              "              title=\"Convert this dataframe to an interactive table.\"\n",
              "              style=\"display:none;\">\n",
              "        \n",
              "  <svg xmlns=\"http://www.w3.org/2000/svg\" height=\"24px\"viewBox=\"0 0 24 24\"\n",
              "       width=\"24px\">\n",
              "    <path d=\"M0 0h24v24H0V0z\" fill=\"none\"/>\n",
              "    <path d=\"M18.56 5.44l.94 2.06.94-2.06 2.06-.94-2.06-.94-.94-2.06-.94 2.06-2.06.94zm-11 1L8.5 8.5l.94-2.06 2.06-.94-2.06-.94L8.5 2.5l-.94 2.06-2.06.94zm10 10l.94 2.06.94-2.06 2.06-.94-2.06-.94-.94-2.06-.94 2.06-2.06.94z\"/><path d=\"M17.41 7.96l-1.37-1.37c-.4-.4-.92-.59-1.43-.59-.52 0-1.04.2-1.43.59L10.3 9.45l-7.72 7.72c-.78.78-.78 2.05 0 2.83L4 21.41c.39.39.9.59 1.41.59.51 0 1.02-.2 1.41-.59l7.78-7.78 2.81-2.81c.8-.78.8-2.07 0-2.86zM5.41 20L4 18.59l7.72-7.72 1.47 1.35L5.41 20z\"/>\n",
              "  </svg>\n",
              "      </button>\n",
              "      \n",
              "  <style>\n",
              "    .colab-df-container {\n",
              "      display:flex;\n",
              "      flex-wrap:wrap;\n",
              "      gap: 12px;\n",
              "    }\n",
              "\n",
              "    .colab-df-convert {\n",
              "      background-color: #E8F0FE;\n",
              "      border: none;\n",
              "      border-radius: 50%;\n",
              "      cursor: pointer;\n",
              "      display: none;\n",
              "      fill: #1967D2;\n",
              "      height: 32px;\n",
              "      padding: 0 0 0 0;\n",
              "      width: 32px;\n",
              "    }\n",
              "\n",
              "    .colab-df-convert:hover {\n",
              "      background-color: #E2EBFA;\n",
              "      box-shadow: 0px 1px 2px rgba(60, 64, 67, 0.3), 0px 1px 3px 1px rgba(60, 64, 67, 0.15);\n",
              "      fill: #174EA6;\n",
              "    }\n",
              "\n",
              "    [theme=dark] .colab-df-convert {\n",
              "      background-color: #3B4455;\n",
              "      fill: #D2E3FC;\n",
              "    }\n",
              "\n",
              "    [theme=dark] .colab-df-convert:hover {\n",
              "      background-color: #434B5C;\n",
              "      box-shadow: 0px 1px 3px 1px rgba(0, 0, 0, 0.15);\n",
              "      filter: drop-shadow(0px 1px 2px rgba(0, 0, 0, 0.3));\n",
              "      fill: #FFFFFF;\n",
              "    }\n",
              "  </style>\n",
              "\n",
              "      <script>\n",
              "        const buttonEl =\n",
              "          document.querySelector('#df-f6ebe347-be8a-44ef-ac6f-bfe363f33c7a button.colab-df-convert');\n",
              "        buttonEl.style.display =\n",
              "          google.colab.kernel.accessAllowed ? 'block' : 'none';\n",
              "\n",
              "        async function convertToInteractive(key) {\n",
              "          const element = document.querySelector('#df-f6ebe347-be8a-44ef-ac6f-bfe363f33c7a');\n",
              "          const dataTable =\n",
              "            await google.colab.kernel.invokeFunction('convertToInteractive',\n",
              "                                                     [key], {});\n",
              "          if (!dataTable) return;\n",
              "\n",
              "          const docLinkHtml = 'Like what you see? Visit the ' +\n",
              "            '<a target=\"_blank\" href=https://colab.research.google.com/notebooks/data_table.ipynb>data table notebook</a>'\n",
              "            + ' to learn more about interactive tables.';\n",
              "          element.innerHTML = '';\n",
              "          dataTable['output_type'] = 'display_data';\n",
              "          await google.colab.output.renderOutput(dataTable, element);\n",
              "          const docLink = document.createElement('div');\n",
              "          docLink.innerHTML = docLinkHtml;\n",
              "          element.appendChild(docLink);\n",
              "        }\n",
              "      </script>\n",
              "    </div>\n",
              "  </div>\n",
              "  "
            ]
          },
          "metadata": {},
          "execution_count": 7
        }
      ]
    },
    {
      "cell_type": "code",
      "source": [
        "\n",
        "# Find the maximum and the minimum of the dataset\n",
        "highest_gold = data['Gold'].max()\n",
        "lowest_gold = data['Gold'].min()\n",
        "highest_silver = data['Silver'].max()\n",
        "lowest_silver = data['Silver'].min()\n",
        "highest_bronze = data['Bronze'].max()\n",
        "lowest_bronze = data['Bronze'].min()\n"
      ],
      "metadata": {
        "id": "15V8digEVSVc"
      },
      "execution_count": 8,
      "outputs": []
    },
    {
      "cell_type": "code",
      "source": [
        "high_gold_scorer_name = data.loc[data['Gold'] >= highest_gold, 'Country Name']\n",
        "low_gold_scorer_name = data.loc[data['Gold'] <= lowest_gold, 'Country Name']\n",
        "high_silver_scorer_name = data.loc[data['Silver'] >= highest_silver, 'Country Name']\n",
        "low_silver_scorer_name = data.loc[data['Silver'] <= lowest_silver, 'Country Name']\n",
        "high_bronze_scorer_name = data.loc[data['Bronze'] >= highest_bronze, 'Country Name']\n",
        "low_bronze_scorer_name = data.loc[data['Bronze'] <= lowest_bronze, 'Country Name']\n"
      ],
      "metadata": {
        "id": "lTjutBAuVaRz"
      },
      "execution_count": 9,
      "outputs": []
    },
    {
      "cell_type": "markdown",
      "source": [
        "Plotting graphs for the given dataset\n",
        "\n"
      ],
      "metadata": {
        "id": "50aqS3h7ZiRT"
      }
    },
    {
      "cell_type": "code",
      "source": [
        "# plotting the graph for total medals versus country name\n",
        "\n",
        "New_Colors = ['green','blue','purple','brown','teal', 'yellow', 'red']\n",
        "data.plot(kind='bar', x='Country Name', y='Total Medals', color=New_Colors, figsize=(10, 6), edgecolor='black')\n",
        "plt.title('Bar graph for total number of medals each individual country got.')\n",
        "plt.xlabel('Country Name')\n",
        "plt.ylabel('Total Medals')\n",
        "plt.savefig('Totalmedalgraph.png')\n",
        "plt.show()"
      ],
      "metadata": {
        "colab": {
          "base_uri": "https://localhost:8080/",
          "height": 462
        },
        "id": "TuO-A94gZgFH",
        "outputId": "fa9b745b-e689-4463-85c8-3433e159724b"
      },
      "execution_count": 25,
      "outputs": [
        {
          "output_type": "display_data",
          "data": {
            "text/plain": [
              "<Figure size 720x432 with 1 Axes>"
            ],
            "image/png": "[encoded data removed]"
          },
          "metadata": {
            "needs_background": "light"
          }
        }
      ]
    },
    {
      "cell_type": "code",
      "source": [
        "# Plotting graphs for Gold medals versus country name\n",
        "\n",
        "New_Colors = ['green','blue','purple','brown','teal', 'yellow', 'red']\n",
        "data.plot(kind='bar', x='Country Name', y='Gold', color=New_Colors, figsize=(10, 6), edgecolor='black')\n",
        "plt.title('Graph to show number of gold medals won by every country')\n",
        "plt.xlabel('Country Name')\n",
        "plt.ylabel('Gold Medals')\n",
        "plt.savefig('Goldmedalgraph.png')\n",
        "plt.show()"
      ],
      "metadata": {
        "colab": {
          "base_uri": "https://localhost:8080/",
          "height": 462
        },
        "id": "NnUGKGfEaFX3",
        "outputId": "a73d6cdf-29a8-4929-f2e3-260bf34c4109"
      },
      "execution_count": 24,
      "outputs": [
        {
          "output_type": "display_data",
          "data": {
            "text/plain": [
              "<Figure size 720x432 with 1 Axes>"
            ],
            "image/png": "[encoded data removed]"
          },
          "metadata": {
            "needs_background": "light"
          }
        }
      ]
    },
    {
      "cell_type": "code",
      "source": [
        "# Plotting graph for Silver medals versus country name\n",
        "\n",
        "New_Colors = ['green','blue','purple','brown','teal', 'yellow', 'red']\n",
        "data.plot(kind='bar', x='Country Name', y='Silver', color=New_Colors, figsize=(10, 6), edgecolor='black')\n",
        "plt.title('Graph to show number of silver medals won by every country')\n",
        "plt.xlabel('Country Name')\n",
        "plt.ylabel('Silver Medals')\n",
        "plt.savefig('silvermedalgraph.png')\n",
        "plt.show()"
      ],
      "metadata": {
        "colab": {
          "base_uri": "https://localhost:8080/",
          "height": 462
        },
        "id": "KyT08fTxaWPH",
        "outputId": "4ecd911d-280c-4d7a-f331-be317d4343cf"
      },
      "execution_count": 23,
      "outputs": [
        {
          "output_type": "display_data",
          "data": {
            "text/plain": [
              "<Figure size 720x432 with 1 Axes>"
            ],
            "image/png": "[encoded data removed]"
          },
          "metadata": {
            "needs_background": "light"
          }
        }
      ]
    },
    {
      "cell_type": "code",
      "source": [
        "# plotting graph for the Bronze medals versus country name \n",
        "\n",
        "New_Colors = ['green','blue','purple','brown','teal', 'yellow', 'red']\n",
        "data.plot(kind='bar', x='Country Name', y='Bronze', color=New_Colors, figsize=(10, 6), edgecolor='black')\n",
        "plt.title('Graph to show number of bronze medals won by every country')\n",
        "plt.xlabel('Country Name')\n",
        "plt.ylabel('Bronze Medals')\n",
        "plt.savefig('bronzemedalgraph.png')\n",
        "plt.show()"
      ],
      "metadata": {
        "colab": {
          "base_uri": "https://localhost:8080/",
          "height": 462
        },
        "id": "uXlxQ0vYalYE",
        "outputId": "3c2f6d68-1c06-4fba-d815-78c0e78ef6ec"
      },
      "execution_count": 22,
      "outputs": [
        {
          "output_type": "display_data",
          "data": {
            "text/plain": [
              "<Figure size 720x432 with 1 Axes>"
            ],
            "image/png": "[encoded data removed]"
          },
          "metadata": {
            "needs_background": "light"
          }
        }
      ]
    },
    {
      "cell_type": "code",
      "source": [
        "# plotting a single graph for entire dataset\n",
        "\n",
        "yticks = [0, 5, 10, 15, 20, 25, 30, 35, 40, 45, 50]\n",
        "Y = 5\n",
        "data.plot(x='Country Name', y=['Gold', 'Silver', 'Bronze'], kind='bar', edgecolor='black', figsize=(10, 6))\n",
        "plt.yticks(np.arange(min(yticks), max(yticks) + 1, Y))\n",
        "plt.title('Bar graph for medal tally of every individual country')\n",
        "plt.xlabel('Country Name')\n",
        "plt.ylabel('Number of Medals won')\n",
        "plt.savefig('Consolidated bar graph.png')\n",
        "plt.show()"
      ],
      "metadata": {
        "colab": {
          "base_uri": "https://localhost:8080/",
          "height": 462
        },
        "id": "ed4M0-cguXzg",
        "outputId": "2a1f8b8e-2c8d-44d4-d33b-8b41a0b17d89"
      },
      "execution_count": 44,
      "outputs": [
        {
          "output_type": "display_data",
          "data": {
            "text/plain": [
              "<Figure size 720x432 with 1 Axes>"
            ],
            "image/png": "[encoded data removed]"
          },
          "metadata": {
            "needs_background": "light"
          }
        }
      ]
    }
  ]
}