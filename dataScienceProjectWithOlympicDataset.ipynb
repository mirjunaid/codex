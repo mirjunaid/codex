{
  "nbformat": 4,
  "nbformat_minor": 0,
  "metadata": {
    "colab": {
      "name": "dataScienceProjectWithOlympicDataset.ipynb",
      "provenance": [],
      "collapsed_sections": [],
      "mount_file_id": "1YP94HqbJtfcPigmIvv13BWcoqVibaeH3",
      "authorship_tag": "ABX9TyMPE0rBrU8g06JrX0yy6tJA",
      "include_colab_link": true
    },
    "kernelspec": {
      "name": "python3",
      "display_name": "Python 3"
    },
    "language_info": {
      "name": "python"
    }
  },
  "cells": [
    {
      "cell_type": "markdown",
      "metadata": {
        "id": "view-in-github",
        "colab_type": "text"
      },
      "source": [
        "<a href=\"https://colab.research.google.com/github/mirjunaid/codex/blob/main/dataScienceProjectWithOlympicDataset.ipynb\" target=\"_parent\"><img src=\"https://colab.research.google.com/assets/colab-badge.svg\" alt=\"Open In Colab\"/></a>"
      ]
    },
    {
      "cell_type": "code",
      "execution_count": null,
      "metadata": {
        "id": "y_tpVWV591pv"
      },
      "outputs": [],
      "source": [
        "import pandas as pd\n",
        "import numpy as np\n",
        "import matplotlib.pyplot as plt\n",
        "from IPython.core.pylabtools import figsize\n",
        "%matplotlib inline"
      ]
    },
    {
      "cell_type": "code",
      "source": [
        "# reading the given data\n",
        "\n",
        "data = pd.read_excel('/Olympic 2012 Medal Tally.xlsx')"
      ],
      "metadata": {
        "id": "PkJaM8LBTcS7"
      },
      "execution_count": null,
      "outputs": []
    },
    {
      "cell_type": "code",
      "source": [
        "# Add a column to the datasheet to calculate the total of the medals won by a country\n",
        "data['Total Medals'] = None\n",
        "data['Maximum'] = None\n",
        "data"
      ],
      "metadata": {
        "id": "jErGP0CgTu2z"
      },
      "execution_count": null,
      "outputs": []
    },
    {
      "cell_type": "code",
      "source": [
        "# Set the index for the Columns\n",
        "index_gold = data.columns.get_loc('Gold')\n",
        "index_silver = data.columns.get_loc('Silver')\n",
        "index_bronze = data.columns.get_loc('Bronze')\n",
        "index_total = data.columns.get_loc('Total Medals')\n",
        "index_maximum = data.columns.get_loc('Maximum')"
      ],
      "metadata": {
        "id": "PS2khyt-T9iE"
      },
      "execution_count": null,
      "outputs": []
    },
    {
      "cell_type": "code",
      "source": [
        "# Add the data given in columns and display it in total column\n",
        "for row in range(0, len(data)):\n",
        "    data.iat[row, index_total] = data.iat[row, index_gold] + data.iat[row, index_silver] + data.iat[row, index_bronze]\n",
        "    if data.iat[row, index_gold] > data.iat[row, index_silver] and data.iat[row, index_gold] > data.iat[row, index_bronze]:\n",
        "        data.iat[row, index_maximum] = data.iat[row, index_gold]\n",
        "    elif data.iat[row, index_silver] > data.iat[row, index_gold] and data.iat[row, index_silver] > data.iat[row, index_bronze]:\n",
        "        data.iat[row, index_maximum] = data.iat[row, index_silver]\n",
        "    else:\n",
        "        data.iat[row, index_maximum] = data.iat[row, index_bronze]\n",
        "\n",
        "data\n"
      ],
      "metadata": {
        "id": "qZ4PG7M6Usbk"
      },
      "execution_count": null,
      "outputs": []
    },
    {
      "cell_type": "code",
      "source": [
        "\n",
        "# Find the maximum and the minimum of the dataset\n",
        "highest_gold = data['Gold'].max()\n",
        "lowest_gold = data['Gold'].min()\n",
        "highest_silver = data['Silver'].max()\n",
        "lowest_silver = data['Silver'].min()\n",
        "highest_bronze = data['Bronze'].max()\n",
        "lowest_bronze = data['Bronze'].min()\n"
      ],
      "metadata": {
        "id": "15V8digEVSVc"
      },
      "execution_count": null,
      "outputs": []
    },
    {
      "cell_type": "code",
      "source": [
        "high_gold_scorer_name = data.loc[data['Gold'] >= highest_gold, 'Country Name']\n",
        "low_gold_scorer_name = data.loc[data['Gold'] <= lowest_gold, 'Country Name']\n",
        "high_silver_scorer_name = data.loc[data['Silver'] >= highest_silver, 'Country Name']\n",
        "low_silver_scorer_name = data.loc[data['Silver'] <= lowest_silver, 'Country Name']\n",
        "high_bronze_scorer_name = data.loc[data['Bronze'] >= highest_bronze, 'Country Name']\n",
        "low_bronze_scorer_name = data.loc[data['Bronze'] <= lowest_bronze, 'Country Name']\n"
      ],
      "metadata": {
        "id": "lTjutBAuVaRz"
      },
      "execution_count": null,
      "outputs": []
    },
    {
      "cell_type": "markdown",
      "source": [
        "Plotting graphs for the given dataset\n",
        "\n"
      ],
      "metadata": {
        "id": "50aqS3h7ZiRT"
      }
    },
    {
      "cell_type": "code",
      "source": [
        "# plotting the graph for total medals versus country name\n",
        "\n",
        "New_Colors = ['green','blue','purple','brown','teal', 'yellow', 'red']\n",
        "data.plot(kind='bar', x='Country Name', y='Total Medals', color=New_Colors, figsize=(10, 6), edgecolor='black')\n",
        "plt.title('Bar graph for total number of medals each individual country got.')\n",
        "plt.xlabel('Country Name')\n",
        "plt.ylabel('Total Medals')\n",
        "plt.savefig('Totalmedalgraph.png')\n",
        "plt.show()"
      ],
      "metadata": {
        "id": "TuO-A94gZgFH"
      },
      "execution_count": null,
      "outputs": []
    },
    {
      "cell_type": "code",
      "source": [
        "# Plotting graphs for Gold medals versus country name\n",
        "\n",
        "New_Colors = ['green','blue','purple','brown','teal', 'yellow', 'red']\n",
        "data.plot(kind='bar', x='Country Name', y='Gold', color=New_Colors, figsize=(10, 6), edgecolor='black')\n",
        "plt.title('Graph to show number of gold medals won by every country')\n",
        "plt.xlabel('Country Name')\n",
        "plt.ylabel('Gold Medals')\n",
        "plt.savefig('Goldmedalgraph.png')\n",
        "plt.show()"
      ],
      "metadata": {
        "id": "NnUGKGfEaFX3"
      },
      "execution_count": null,
      "outputs": []
    },
    {
      "cell_type": "code",
      "source": [
        "# Plotting graph for Silver medals versus country name\n",
        "\n",
        "New_Colors = ['green','blue','purple','brown','teal', 'yellow', 'red']\n",
        "data.plot(kind='bar', x='Country Name', y='Silver', color=New_Colors, figsize=(10, 6), edgecolor='black')\n",
        "plt.title('Graph to show number of silver medals won by every country')\n",
        "plt.xlabel('Country Name')\n",
        "plt.ylabel('Silver Medals')\n",
        "plt.savefig('silvermedalgraph.png')\n",
        "plt.show()"
      ],
      "metadata": {
        "id": "KyT08fTxaWPH"
      },
      "execution_count": null,
      "outputs": []
    },
    {
      "cell_type": "code",
      "source": [
        "# plotting graph for the Bronze medals versus country name \n",
        "\n",
        "New_Colors = ['green','blue','purple','brown','teal', 'yellow', 'red']\n",
        "data.plot(kind='bar', x='Country Name', y='Bronze', color=New_Colors, figsize=(10, 6), edgecolor='black')\n",
        "plt.title('Graph to show number of bronze medals won by every country')\n",
        "plt.xlabel('Country Name')\n",
        "plt.ylabel('Bronze Medals')\n",
        "plt.savefig('bronzemedalgraph.png')\n",
        "plt.show()"
      ],
      "metadata": {
        "id": "uXlxQ0vYalYE"
      },
      "execution_count": null,
      "outputs": []
    },
    {
      "cell_type": "code",
      "source": [
        "# plotting a single graph for entire dataset\n",
        "\n",
        "yticks = [0, 5, 10, 15, 20, 25, 30, 35, 40, 45, 50]\n",
        "Y = 5\n",
        "data.plot(x='Country Name', y=['Gold', 'Silver', 'Bronze'], kind='bar', edgecolor='black', figsize=(10, 6))\n",
        "plt.yticks(np.arange(min(yticks), max(yticks) + 1, Y))\n",
        "plt.title('Bar graph for medal tally of every individual country')\n",
        "plt.xlabel('Country Name')\n",
        "plt.ylabel('Number of Medals won')\n",
        "plt.savefig('Consolidated bar graph.png')\n",
        "plt.show()"
      ],
      "metadata": {
        "id": "ed4M0-cguXzg"
      },
      "execution_count": null,
      "outputs": []
    }
  ]
}